{
  "nbformat": 4,
  "nbformat_minor": 0,
  "metadata": {
    "colab": {
      "provenance": [],
      "mount_file_id": "13v_fuHNjFHB5zDGQZ4FvxqQMUUqPuG4O",
      "authorship_tag": "ABX9TyOlmrwYWk38yoyrZkndruVZ",
      "include_colab_link": true
    },
    "kernelspec": {
      "name": "python3",
      "display_name": "Python 3"
    },
    "language_info": {
      "name": "python"
    }
  },
  "cells": [
    {
      "cell_type": "markdown",
      "metadata": {
        "id": "view-in-github",
        "colab_type": "text"
      },
      "source": [
        "<a href=\"https://colab.research.google.com/github/MariaLimaS/LFA-TP1/blob/main/TP1.ipynb\" target=\"_parent\"><img src=\"https://colab.research.google.com/assets/colab-badge.svg\" alt=\"Open In Colab\"/></a>"
      ]
    },
    {
      "cell_type": "markdown",
      "source": [
        "# **Implementação de um algoritmo que simule um AFD**\n",
        "\n",
        "** Sobre o algoritmo**\n",
        "Este algoritmo simula o comportamento de um autômato finito determinístico (AFD) dado um conjunto de estados, um alfabeto, regras de transição, um estado inicial e um conjunto de estados finais. A função recebe como entrada uma lista de palavras de teste e, para cada palavra, aplica-se as regras do AFD para determinar se a palavra é aceita ou rejeitada pelo mesmo e pertence ou não a linguagem.\n",
        "\n",
        "A função funciona pegando cada palavra na lista de entrada  de teste e, para cada palavra, ela começa no estado inicial e passa por cada símbolo (caracter) da mesma. Para cada símbolo, a função tenta fazer a transição para o próximo estado com base no estado atual e no símbolo atual. Se não houver transição definida para o estado e símbolo atuais, a função define o estado atual como um estado de \"erro\" e encerra o loop. Se a função atingir o final da palavra e o estado atual for um estado final, a função retornará \"S\" para indicar que a palavra foi aceita pelo AFD. Caso contrário, a função retorna \"N\" para indicar que a palavra foi rejeitada.\n"
      ],
      "metadata": {
        "id": "OorlsHeukOIY"
      }
    },
    {
      "cell_type": "markdown",
      "source": [
        "\n",
        "# **Estruturas de dados**\n",
        "\n",
        "1 - conjunto_estados: uma lista ou conjunto de strings que representa o conjunto de estados do automato finito determinístico (AFD)\n",
        "\n",
        "2 - alfabeto: uma lista ou conjunto de strings que representa o alfabeto do AFD\n",
        "\n",
        "3 - transicoes: um dicionário cujas chaves são tuplas de dois elementos (estado_atual, simbolo) e cujos valores são strings que representam o estado de destino da transição correspondente\n",
        "\n",
        "4 - estado_inicial: uma string que representa o estado inicial do AFD\n",
        "\n",
        "5 - estados_finais: uma lista ou conjunto de strings que representa o conjunto de estados finais do AFD\n",
        "\n",
        "6 - lista_teste: uma lista de strings que representam as palavras que serão testadas no AFD\n",
        "\n"
      ],
      "metadata": {
        "id": "ObQXwoNj6ejM"
      }
    },
    {
      "cell_type": "markdown",
      "source": [
        "\n",
        "# **Complexidade**\n",
        "\n",
        "A complexidade do algoritmo é linear (complexidade O(|w|), onde |w| é o tamanho\n",
        "da palavra de entrada) porque o número de operações realizadas pelo algoritmo é diretamente proporcional ao tamanho da entrada, que é o comprimento da palavra de teste.\n",
        "\n",
        "O algoritmo percorreu cada símbolo da palavra uma única vez, tentando atualizar o estado atual com o estado de destino da transição correspondente a esse símbolo. Em cada iteração (repetição), uma verificação do estado atual é feita em tempo constante, e o loop pode ser interrompido se a transição correspondente não for encontrada.\n",
        "\n",
        "Portanto, o tempo de execução do algoritmo é proporcional ao tamanho da entrada, que é a soma dos comprimentos de todas as palavras de teste, e isso resulta em uma complexidade linear."
      ],
      "metadata": {
        "id": "SHJzKAJ-6ple"
      }
    },
    {
      "cell_type": "code",
      "source": [
        "def AFD_Simulador(conjunto_estados, alfabeto, transicoes, estado_inicial, estados_finais, lista_teste):\n",
        "    # Loop através de cada palavra fornecida\n",
        "    for teste_palavra in lista_teste:\n",
        "        # Começa no estado inicial\n",
        "        estado_atual = estado_inicial\n",
        "\n",
        "# Percorre cada símbolo da palavra\n",
        "        for simbolo in teste_palavra:\n",
        "            try:\n",
        "                \n",
        "               \n",
        "# Tenta atualizar o estado atual com o estado de destino da transição correspondente ao estado e símbolo de entrada atuais\n",
        "                estado_atual = transicoes[(estado_atual, simbolo)]\n",
        "            \n",
        "            except KeyError:\n",
        "                estado_atual =\"ERRO\"\n",
        "               \n",
        "# Se não houver transição correspondente, vá para o estado de erro e interrompa o loop\n",
        "\n",
        "                break\n",
        "        \n",
        "        # Verifica se o estado atual é um estado final\n",
        "        \n",
        "       \n",
        "        if estado_atual in estados_finais:\n",
        "            # Se sim, imprime \"S\" para indicar que a palavra é aceita\n",
        "            resultado = \"S\"\n",
        "       \n",
        "        else:\n",
        "            # Se não, imprime \"N\" para indicar que a palavra é rejeitada\n",
        "           resultado = \"N\"\n",
        "\n",
        "        print (resultado)\n",
        "\n",
        "        "
      ],
      "metadata": {
        "id": "7ZfoaNhZAtdD"
      },
      "execution_count": 19,
      "outputs": []
    },
    {
      "cell_type": "code",
      "execution_count": 20,
      "metadata": {
        "id": "78gTDJ23VSZZ",
        "colab": {
          "base_uri": "https://localhost:8080/"
        },
        "outputId": "9a6e7d76-5d72-4cd3-ac20-939fafee07e7"
      },
      "outputs": [
        {
          "output_type": "stream",
          "name": "stdout",
          "text": [
            "S\n",
            "N\n",
            "S\n",
            "S\n",
            "N\n"
          ]
        }
      ],
      "source": [
        "#Especificação de AFD\n",
        "conjunto_estados = ['0', '1'] #conjunto de estados\n",
        "\n",
        "alfabeto = ['a', 'b'] #conjunto de símbolos da linguagem\n",
        "\n",
        "numeroDeTransações=3\n",
        "\n",
        "transicoes = {\n",
        "    ('0', 'a'): '1',  # se estiver no estado '0' e ler 'a', vá para o estado '1'\n",
        "    ('1', 'a'): '1',  # se estiver no estado '1' e ler 'a', permaneça no estado '1'\n",
        "    ('1', 'b'): '1'   # se estiver no estado '1' e ler 'b', permaneça no estado '1'\n",
        "}\n",
        "\n",
        "estado_inicial = '0'\n",
        "estados_finais = ['1'] #conjunto de estados finais\n",
        "\n",
        "lista_teste = ['a', 'b', 'aba', 'abb', 'b'] # conjunto de possiveis palavras que serão analisadas se pertencem ou não a linguagem descrita pela automato \n",
        "\n",
        "AFD_Simulador(conjunto_estados, alfabeto, transicoes, estado_inicial, estados_finais, lista_teste)\n",
        "\n",
        "\n",
        "\n"
      ]
    }
  ]
}